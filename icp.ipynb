{
 "cells": [
  {
   "cell_type": "code",
   "execution_count": 1,
   "metadata": {
    "collapsed": true
   },
   "outputs": [],
   "source": [
    "import sys\n",
    "import numpy as np\n",
    "import matplotlib.pyplot as plt\n",
    "from math import sin, cos\n",
    "from IPython.display import display, Math, Latex, Markdown"
   ]
  },
  {
   "cell_type": "markdown",
   "metadata": {},
   "source": [
    "# ICP #\n",
    "This notebook is all about ICP and it's different implementations. It should be visual and self - descriptive.\n",
    "\n",
    "## Overview ##\n",
    "Having two scans $P = \\{p_i\\}$ and $Q = \\{q_i\\}$ we want to find a transformation (rotation $R$ and translation $t$) to apply to $P$ to match $Q$ as good as possible:\n",
    "\n",
    "\\begin{equation}\n",
    "E = \\sum_i[Rp_i + t - q_i]^2 \\rightarrow \\mathrm{min} \n",
    "\\end{equation}\n",
    "\n",
    "Here, we consider corresponding points. We will focus on **single iteration of icp** here.\n",
    "\n",
    "## We plot data like this: ##"
   ]
  },
  {
   "cell_type": "code",
   "execution_count": 2,
   "metadata": {
    "collapsed": false
   },
   "outputs": [],
   "source": [
    "# plot the data\n",
    "def plot_data(data_1, data_2, label_1='P', label_2='Q', xlim=[-5, 20], ylim=[-5, 20]):\n",
    "    fig = plt.figure()\n",
    "    ax = fig.add_subplot(111)\n",
    "    ax.set_xlim(xlim)\n",
    "    ax.set_ylim(ylim)\n",
    "    x_p, y_p = data_1.A\n",
    "    x_q, y_q = data_2.A\n",
    "    ax.plot(x_p, y_p, color='blue', marker='o', label=label_1)\n",
    "    ax.plot(x_q, y_q, color='red', marker='o', label=label_2)\n",
    "    ax.legend()\n",
    "    return ax"
   ]
  },
  {
   "cell_type": "markdown",
   "metadata": {},
   "source": [
    "## Example data looks like this: ##"
   ]
  },
  {
   "cell_type": "code",
   "execution_count": 3,
   "metadata": {
    "collapsed": false
   },
   "outputs": [
    {
     "data": {
      "image/png": "[encoded data removed]",
      "text/plain": [
       "<matplotlib.figure.Figure at 0x7feadfcc1f60>"
      ]
     },
     "metadata": {},
     "output_type": "display_data"
    }
   ],
   "source": [
    "# initialize pertrubation rotation\n",
    "angle = 0.5\n",
    "R_true = np.mat([[cos(angle), -sin(angle)], \n",
    "                 [sin(angle),  cos(angle)]])\n",
    "t_true = np.mat([[-2], [5]])\n",
    "\n",
    "# generate data as a list of 2d points\n",
    "num_points = 20\n",
    "Q = np.mat(np.ones((2, num_points)))\n",
    "Q[0, :] = range(0, num_points)\n",
    "P = R_true * Q + t_true\n",
    "\n",
    "plot_data(P, Q)\n",
    "plt.show()"
   ]
  },
  {
   "cell_type": "markdown",
   "metadata": {},
   "source": [
    "## Centered data ##"
   ]
  },
  {
   "cell_type": "code",
   "execution_count": 4,
   "metadata": {
    "collapsed": false
   },
   "outputs": [
    {
     "data": {
      "image/png": "[encoded data removed]",
      "text/plain": [
       "<matplotlib.figure.Figure at 0x7feadda19c88>"
      ]
     },
     "metadata": {},
     "output_type": "display_data"
    }
   ],
   "source": [
    "mu_P = P.mean(1)\n",
    "mu_Q = Q.mean(1)\n",
    "P_centered = P - mu_P\n",
    "Q_centered = Q - mu_Q\n",
    "lim = [-10, 10]\n",
    "ax = plot_data(P_centered, Q_centered,\n",
    "               label_1='P centered',\n",
    "               label_2='Q centered',\n",
    "               xlim=lim, ylim=lim)\n",
    "plt.show()"
   ]
  },
  {
   "cell_type": "markdown",
   "metadata": {},
   "source": [
    "## Correspondences ##\n",
    "We compute correspondences from $P$ to $Q$, i.e. for every $p_i$ we search the closest $q_j$ to it."
   ]
  },
  {
   "cell_type": "code",
   "execution_count": 12,
   "metadata": {
    "collapsed": false
   },
   "outputs": [
    {
     "ename": "TypeError",
     "evalue": "__init__() got an unexpected keyword argument 'label'",
     "output_type": "error",
     "traceback": [
      "\u001b[0;31m---------------------------------------------------------------------------\u001b[0m",
      "\u001b[0;31mTypeError\u001b[0m                                 Traceback (most recent call last)",
      "\u001b[0;32m<ipython-input-12-ff6eb8908b9e>\u001b[0m in \u001b[0;36m<module>\u001b[0;34m()\u001b[0m\n\u001b[1;32m     31\u001b[0m                \u001b[0mlabel_2\u001b[0m\u001b[0;34m=\u001b[0m\u001b[0;34m'Q centered'\u001b[0m\u001b[0;34m,\u001b[0m\u001b[0;34m\u001b[0m\u001b[0m\n\u001b[1;32m     32\u001b[0m                xlim=lim, ylim=lim)\n\u001b[0;32m---> 33\u001b[0;31m \u001b[0mdraw_correspondeces\u001b[0m\u001b[0;34m(\u001b[0m\u001b[0mP_centered\u001b[0m\u001b[0;34m,\u001b[0m \u001b[0mQ_centered\u001b[0m\u001b[0;34m,\u001b[0m \u001b[0mcorrespondences\u001b[0m\u001b[0;34m,\u001b[0m \u001b[0max\u001b[0m\u001b[0;34m)\u001b[0m\u001b[0;34m\u001b[0m\u001b[0m\n\u001b[0m\u001b[1;32m     34\u001b[0m \u001b[0mplt\u001b[0m\u001b[0;34m.\u001b[0m\u001b[0mshow\u001b[0m\u001b[0;34m(\u001b[0m\u001b[0;34m)\u001b[0m\u001b[0;34m\u001b[0m\u001b[0m\n",
      "\u001b[0;32m<ipython-input-12-ff6eb8908b9e>\u001b[0m in \u001b[0;36mdraw_correspondeces\u001b[0;34m(P, Q, correspondences, ax)\u001b[0m\n\u001b[1;32m     22\u001b[0m         \u001b[0my\u001b[0m \u001b[0;34m=\u001b[0m \u001b[0;34m[\u001b[0m\u001b[0mP\u001b[0m\u001b[0;34m[\u001b[0m\u001b[0;36m1\u001b[0m\u001b[0;34m,\u001b[0m \u001b[0mi\u001b[0m\u001b[0;34m]\u001b[0m\u001b[0;34m,\u001b[0m \u001b[0mQ\u001b[0m\u001b[0;34m[\u001b[0m\u001b[0;36m1\u001b[0m\u001b[0;34m,\u001b[0m \u001b[0mj\u001b[0m\u001b[0;34m]\u001b[0m\u001b[0;34m]\u001b[0m\u001b[0;34m\u001b[0m\u001b[0m\n\u001b[1;32m     23\u001b[0m         \u001b[0max\u001b[0m\u001b[0;34m.\u001b[0m\u001b[0mplot\u001b[0m\u001b[0;34m(\u001b[0m\u001b[0mx\u001b[0m\u001b[0;34m,\u001b[0m \u001b[0my\u001b[0m\u001b[0;34m,\u001b[0m \u001b[0mcolor\u001b[0m\u001b[0;34m=\u001b[0m\u001b[0;34m'grey'\u001b[0m\u001b[0;34m)\u001b[0m\u001b[0;34m\u001b[0m\u001b[0m\n\u001b[0;32m---> 24\u001b[0;31m     \u001b[0max\u001b[0m\u001b[0;34m.\u001b[0m\u001b[0mlegend\u001b[0m\u001b[0;34m(\u001b[0m\u001b[0mlabel\u001b[0m\u001b[0;34m=\u001b[0m\u001b[0;34m'correspondence'\u001b[0m\u001b[0;34m)\u001b[0m\u001b[0;34m\u001b[0m\u001b[0m\n\u001b[0m\u001b[1;32m     25\u001b[0m     \u001b[0max\u001b[0m\u001b[0;34m.\u001b[0m\u001b[0mlegend\u001b[0m\u001b[0;34m(\u001b[0m\u001b[0;34m)\u001b[0m\u001b[0;34m\u001b[0m\u001b[0m\n\u001b[1;32m     26\u001b[0m \u001b[0;34m\u001b[0m\u001b[0m\n",
      "\u001b[0;32m/usr/local/lib/python3.5/dist-packages/matplotlib/axes/_axes.py\u001b[0m in \u001b[0;36mlegend\u001b[0;34m(self, *args, **kwargs)\u001b[0m\n\u001b[1;32m    562\u001b[0m             \u001b[0;32mraise\u001b[0m \u001b[0mTypeError\u001b[0m\u001b[0;34m(\u001b[0m\u001b[0;34m'Invalid arguments to legend.'\u001b[0m\u001b[0;34m)\u001b[0m\u001b[0;34m\u001b[0m\u001b[0m\n\u001b[1;32m    563\u001b[0m \u001b[0;34m\u001b[0m\u001b[0m\n\u001b[0;32m--> 564\u001b[0;31m         \u001b[0mself\u001b[0m\u001b[0;34m.\u001b[0m\u001b[0mlegend_\u001b[0m \u001b[0;34m=\u001b[0m \u001b[0mmlegend\u001b[0m\u001b[0;34m.\u001b[0m\u001b[0mLegend\u001b[0m\u001b[0;34m(\u001b[0m\u001b[0mself\u001b[0m\u001b[0;34m,\u001b[0m \u001b[0mhandles\u001b[0m\u001b[0;34m,\u001b[0m \u001b[0mlabels\u001b[0m\u001b[0;34m,\u001b[0m \u001b[0;34m**\u001b[0m\u001b[0mkwargs\u001b[0m\u001b[0;34m)\u001b[0m\u001b[0;34m\u001b[0m\u001b[0m\n\u001b[0m\u001b[1;32m    565\u001b[0m         \u001b[0mself\u001b[0m\u001b[0;34m.\u001b[0m\u001b[0mlegend_\u001b[0m\u001b[0;34m.\u001b[0m\u001b[0m_remove_method\u001b[0m \u001b[0;34m=\u001b[0m \u001b[0;32mlambda\u001b[0m \u001b[0mh\u001b[0m\u001b[0;34m:\u001b[0m \u001b[0msetattr\u001b[0m\u001b[0;34m(\u001b[0m\u001b[0mself\u001b[0m\u001b[0;34m,\u001b[0m \u001b[0;34m'legend_'\u001b[0m\u001b[0;34m,\u001b[0m \u001b[0;32mNone\u001b[0m\u001b[0;34m)\u001b[0m\u001b[0;34m\u001b[0m\u001b[0m\n\u001b[1;32m    566\u001b[0m         \u001b[0;32mreturn\u001b[0m \u001b[0mself\u001b[0m\u001b[0;34m.\u001b[0m\u001b[0mlegend_\u001b[0m\u001b[0;34m\u001b[0m\u001b[0m\n",
      "\u001b[0;31mTypeError\u001b[0m: __init__() got an unexpected keyword argument 'label'"
     ]
    }
   ],
   "source": [
    "def get_correspondence_indices(P, Q):\n",
    "    \"\"\"For each point in P find closest one in Q.\"\"\"\n",
    "    p_size = P.shape[1]\n",
    "    q_size = Q.shape[1]\n",
    "    correspondences = []\n",
    "    for i in range(p_size):\n",
    "        p_point = P[:, i]\n",
    "        min_dist = sys.maxsize\n",
    "        chosen_idx = -1\n",
    "        for j in range(q_size):\n",
    "            q_point = Q[:, j]\n",
    "            dist = np.linalg.norm(q_point - p_point)\n",
    "            if dist < min_dist:\n",
    "                min_dist = dist\n",
    "                chosen_idx = j\n",
    "        correspondences.append((i, chosen_idx))\n",
    "    return correspondences\n",
    "\n",
    "def draw_correspondeces(P, Q, correspondences, ax):\n",
    "    label_added = False\n",
    "    for i, j in correspondences:\n",
    "        x = [P[0, i], Q[0, j]]\n",
    "        y = [P[1, i], Q[1, j]]\n",
    "        if not label_added:\n",
    "            ax.plot(x, y, color='grey', label='correpondences')\n",
    "    ax.legend()\n",
    "\n",
    "correspondences = get_correspondence_indices(P_centered, Q_centered)\n",
    "lim = [-10, 10]\n",
    "ax = plot_data(P_centered, Q_centered,\n",
    "               label_1='P centered',\n",
    "               label_2='Q centered',\n",
    "               xlim=lim, ylim=lim)\n",
    "draw_correspondeces(P_centered, Q_centered, correspondences, ax)\n",
    "plt.show()"
   ]
  },
  {
   "cell_type": "markdown",
   "metadata": {},
   "source": [
    "## SVD - based ICP ##\n",
    "\n",
    "#### Single iteration ####\n",
    "In a single iteration we assume that the correspondences are known. We can compute the cross-correlation between the corresponding points. Let $C = \\{\\{i,j\\}:p_i \\leftrightarrow q_j\\}$ be a set of all correspondences, also $|C| = N$. Then, the cross correlation $K$ is computed as:\n",
    "\n",
    "\\begin{eqnarray}\n",
    "K &=& E [(q_i - \\mu_Q)(p_i - \\mu_P)^T] \\\\\n",
    "&=& \\frac{1}{N}\\sum_{\\{i,j\\} \\in C}{(q_i - \\mu_Q)(p_i - \\mu_P)^T} \\\\\n",
    "&\\sim& \\sum_{\\{i,j\\} \\in C}{(q_i - \\mu_Q)(p_i - \\mu_P)^T}\n",
    "\\end{eqnarray}\n",
    "\n",
    "Each point has two dimentions, that is $p_i, q_j \\in {\\rm I\\!R}$, thus cross correlation has the form of (we drop indices $i$ and $j$ for notation simplicity):\n",
    "\n",
    "\\begin{equation}\n",
    "K =\n",
    "  \\begin{bmatrix}\n",
    "    cov(p_x, q_x) & cov(p_x, q_y) \\\\\n",
    "    cov(p_y, q_x) & cov(p_y, q_y)\n",
    "  \\end{bmatrix}\n",
    "\\end{equation}\n",
    "\n",
    "Intuitevely, cross correlation tells us how a coordinate of point $q$ changes with the change of $p$ coorinate, i.e. $cov(p_x, q_x)$ tells us how the $x$ coordinate of $q$ will change with the change in $x$ coordinate of $p$ given that the points are corresponding. Ideal cross correlation matrix seems to be identity, i.e. we want the $x$ coordinates to be ideally correlated between the scans $P$ and $Q$, while there should be no correlation between the $x$ coorinate of points from $P$ to the $y$ coordinate of points in $Q$. \n",
    "\n",
    "**Example**: Given scans $P$ and $Q$ that match ideally and $\\{p_i, q_j\\} \\in C$, we know that if we change the $x$ coordinate of $p_i$ we see exactly the same change in $x$ coordinate of $q_j$ while we observe no change in its $y$ coordinate. Therefore, the cross correlation matrix will be identity.\n",
    "\n",
    "Knowing the cross correlation we can compute its SVD decomposition:\n",
    "\n",
    "\\begin{equation}\n",
    "\\mathrm{SVD}(K) = USV^T\n",
    "\\end{equation}\n",
    "\n",
    "The SVD decomposition gives us how to rotate our data to align it with its prominent direction with $UV^T$ and how to scale it with its singular values $S$. Therefore:\n",
    "\n",
    "\\begin{eqnarray}\n",
    "R &=& UV^T \\\\\n",
    "t &=& \\mu_Q - R \\mu_P\n",
    "\\end{eqnarray}\n",
    "\n",
    "#### Let's try this out: ####"
   ]
  },
  {
   "cell_type": "markdown",
   "metadata": {},
   "source": [
    "## Compute cross covariance ##"
   ]
  },
  {
   "cell_type": "code",
   "execution_count": 6,
   "metadata": {
    "collapsed": false
   },
   "outputs": [
    {
     "name": "stdout",
     "output_type": "stream",
     "text": [
      "[[ 509.87546846  278.54623793]\n",
      " [   0.            0.        ]]\n"
     ]
    }
   ],
   "source": [
    "def compute_cross_covariance(P, Q, correspondences):\n",
    "    cov = np.mat([[0., 0.],\n",
    "                  [0., 0.]])\n",
    "    for i, j in correspondences:\n",
    "        p_point = P[:, i]\n",
    "        q_point = Q[:, j]\n",
    "        cov += q_point * p_point.T\n",
    "    return cov\n",
    "\n",
    "cov = compute_cross_covariance(P_centered, Q_centered, correspondences)\n",
    "print(cov)"
   ]
  },
  {
   "cell_type": "markdown",
   "metadata": {},
   "source": [
    "## Find $R$ and $t$ from SVD decomposition ##\n",
    "Here we find SVD decomposition of the cross covariance matrix and apply the rotation to $Q$"
   ]
  },
  {
   "cell_type": "code",
   "execution_count": 7,
   "metadata": {
    "collapsed": false
   },
   "outputs": [],
   "source": [
    "U, S, V_T = np.linalg.svd(cov)\n",
    "R_found = U * V_T\n",
    "t_found = mu_Q - R_found * mu_P"
   ]
  },
  {
   "cell_type": "markdown",
   "metadata": {},
   "source": [
    "## Apply correction to $P$ and visualize the result ##"
   ]
  },
  {
   "cell_type": "code",
   "execution_count": 8,
   "metadata": {
    "collapsed": false
   },
   "outputs": [
    {
     "data": {
      "image/png": "[encoded data removed]",
      "text/plain": [
       "<matplotlib.figure.Figure at 0x7feadda19588>"
      ]
     },
     "metadata": {},
     "output_type": "display_data"
    },
    {
     "name": "stdout",
     "output_type": "stream",
     "text": [
      "Squared diff: (P_corrected - Q) =  1.10337402719e-14\n"
     ]
    }
   ],
   "source": [
    "P_corrected = R_found * P + t_found\n",
    "ax = plot_data(P_corrected, Q, label_1='P corrected', label_2='Q', ylim=[0.999, 1.001])\n",
    "plt.show()\n",
    "print(\"Squared diff: (P_corrected - Q) = \", np.linalg.norm(P_corrected - Q))"
   ]
  }
 ],
 "metadata": {
  "kernelspec": {
   "display_name": "Python 3",
   "language": "python",
   "name": "python3"
  },
  "language_info": {
   "codemirror_mode": {
    "name": "ipython",
    "version": 3
   },
   "file_extension": ".py",
   "mimetype": "text/x-python",
   "name": "python",
   "nbconvert_exporter": "python",
   "pygments_lexer": "ipython3",
   "version": "3.5.2"
  }
 },
 "nbformat": 4,
 "nbformat_minor": 2
}
