{
 "cells": [
  {
   "cell_type": "markdown",
   "metadata": {},
   "source": [
    "# ICP #\n",
    "This notebook is all about ICP and it's different implementations. It should be visual and self - descriptive."
   ]
  },
  {
   "cell_type": "code",
   "execution_count": 80,
   "metadata": {
    "collapsed": false
   },
   "outputs": [
    {
     "data": {
      "image/png": "[encoded data removed]",
      "text/plain": [
       "<matplotlib.figure.Figure at 0x7f6752db8908>"
      ]
     },
     "metadata": {},
     "output_type": "display_data"
    }
   ],
   "source": [
    "import numpy as np\n",
    "import matplotlib.pyplot as plt\n",
    "from math import sin, cos\n",
    "from IPython.display import display, Math, Latex, Markdown\n",
    "# initialize pertrubation rotation\n",
    "angle = 0.5\n",
    "R_true = np.mat([[cos(angle), -sin(angle)], \n",
    "               [sin(angle),  cos(angle)]])\n",
    "t_true = np.mat([[-2], [5]])\n",
    "\n",
    "# generate data as a list of 2d points\n",
    "num_points = 20\n",
    "P = np.mat(np.ones((2, num_points)))\n",
    "P[0, :] = range(0, num_points)\n",
    "Q = R_true * P + t_true\n",
    "\n",
    "# plot the data\n",
    "def plot_data(P, Q, xlim=[-5, 20], ylim=[-5, 20]):\n",
    "    fig = plt.figure()\n",
    "    ax = fig.add_subplot(111)\n",
    "    ax.set_xlim(xlim)\n",
    "    ax.set_ylim(ylim)\n",
    "    x_p, y_p = P.A\n",
    "    x_q, y_q = Q.A\n",
    "    ax.plot(x_p, y_p, 'bo', label=\"P\")\n",
    "    ax.plot(x_q, y_q, 'ro', label=\"Q\")\n",
    "    ax.legend()\n",
    "    return ax\n",
    "\n",
    "plot_data(P, Q)\n",
    "plt.show()"
   ]
  },
  {
   "cell_type": "markdown",
   "metadata": {},
   "source": [
    "## SVD - based ICP ##\n",
    "\n",
    "### Theory ###\n",
    "Given two scans in local frame $P$ and $Q$ we want to align them as good as possible.\n",
    "\n",
    "#### Iterative solution ####\n",
    "We say *iteration* and we mean *new point correspondences*. The correct correspondeces are generally not known and are therefore estimated. In this example we will treat the points from $p_{min} \\in P$ and $q_{min} \\in Q$ as corresponding if:\n",
    "\n",
    "\\begin{equation}\n",
    "||p_{min} - q_{min}|| = min_{p_i \\in P, p_j \\in Q}{||p_i - q_j||}\n",
    "\\end{equation}\n",
    "\n",
    "#### Single iteration ####\n",
    "In a single iteration we assume that the correspondences are known. We can compute the cross-correlation between the corresponding points. Let $C = \\{\\{i,j\\}:p_i \\leftrightarrow q_j\\}$ be a set of all correspondences, also $|C| = N$. Then, the cross correlation $K$ is computed as:\n",
    "\n",
    "\\begin{equation}\n",
    "K = E[(p_i - \\mu_P)(q_i - \\mu_Q)] = \\frac{1}{N}\\sum_{\\{i,j\\} \\in C}{(p_i - \\mu_P)(q_i - \\mu_Q)}\n",
    "\\end{equation}\n",
    "\n",
    "Each point has two dimentions, that is $p_i, q_j \\in {\\rm I\\!R}$, thus cross correlation has the form of (we drop indices $i$ and $j$ for notation simplicity):\n",
    "\n",
    "\\begin{equation}\n",
    "K =\n",
    "  \\begin{bmatrix}\n",
    "    cov(p_x, q_x) & cov(p_x, q_y) \\\\\n",
    "    cov(p_y, q_x) & cov(p_y, q_y)\n",
    "  \\end{bmatrix}\n",
    "\\end{equation}\n",
    "\n",
    "Intuitevely, cross correlation tells us how a coordinate of point $q$ changes with the change of $p$ coorinate, i.e. $cov(p_x, q_x)$ tells us how the $x$ coordinate of $q$ will change with the change in $x$ coordinate of $p$ given that the points are corresponding. Ideal cross correlation matrix seems to be identity, i.e. we want the $x$ coordinates to be ideally correlated between the scans $P$ and $Q$, while there should be no correlation between the $x$ coorinate of points from $P$ to the $y$ coordinate of points in $Q$. \n",
    "\n",
    "**Example**: Given scans $P$ and $Q$ that match ideally and $\\{p_i, q_j\\} \\in C$, we know that if we change the $x$ coordinate of $p_i$ we see exactly the same change in $x$ coordinate of $q_j$ while we observe no change in its $y$ coordinate. Therefore, the cross correlation matrix will be identity.\n",
    "\n",
    "Knowing the cross correlation we can compute its SVD decomposition:\n",
    "\n",
    "\\begin{equation}\n",
    "\\mathrm{SVD}(K) = USV^T\n",
    "\\end{equation}\n",
    "\n",
    "The SVD decomposition gives us how to rotate our data to align it with its prominent direction with $UV^T$ and how to scale it with its singular values $S$. Therefore:\n",
    "\n",
    "\\begin{eqnarray}\n",
    "R &=& UV^T \\\\\n",
    "t &=& \\mu_Q - R \\mu_P\n",
    "\\end{eqnarray}\n",
    "\n",
    "#### Let's try this out: ####"
   ]
  },
  {
   "cell_type": "code",
   "execution_count": 102,
   "metadata": {
    "collapsed": false
   },
   "outputs": [],
   "source": [
    "def get_correspondence_indices(P, Q):\n",
    "    p_size = P.shape[1]\n",
    "    q_size = Q.shape[1]\n",
    "    correspondences = []\n",
    "    for j in range(q_size):\n",
    "        q_point = Q[:, j]\n",
    "        min_dist = 999999999\n",
    "        chosen_idx = -1\n",
    "        for i in range(p_size):\n",
    "            p_point = P[:, i]\n",
    "            dist = np.linalg.norm(q_point - p_point)\n",
    "            if dist < min_dist:\n",
    "                min_dist = dist\n",
    "                chosen_idx = i\n",
    "        correspondences.append((chosen_idx, j))\n",
    "    return correspondences\n",
    "\n",
    "def draw_correspondeces(P, Q, correspondences, ax):\n",
    "    for i, j in correspondences:\n",
    "        x = [P[0, i], Q[0, j]]\n",
    "        y = [P[1, i], Q[1, j]]\n",
    "        ax.plot(x, y, color='grey')\n",
    "        \n",
    "def compute_cross_covariance(P, Q, correspondences):\n",
    "    cov = np.mat([[0., 0.],\n",
    "                  [0., 0.]])\n",
    "    for i, j in correspondences:\n",
    "        p_point = P[:, i]\n",
    "        q_point = Q[:, j]\n",
    "        cov += p_point * q_point.T\n",
    "    return cov"
   ]
  },
  {
   "cell_type": "markdown",
   "metadata": {},
   "source": [
    "## Correspondences ##\n",
    "We compute correspondences from $Q$ to $P$, i.e. for every $q_i$ we search the closest $p_j$ to it."
   ]
  },
  {
   "cell_type": "code",
   "execution_count": 117,
   "metadata": {
    "collapsed": false
   },
   "outputs": [
    {
     "data": {
      "image/png": "[encoded data removed]",
      "text/plain": [
       "<matplotlib.figure.Figure at 0x7f6752ee4e80>"
      ]
     },
     "metadata": {},
     "output_type": "display_data"
    },
    {
     "data": {
      "image/png": "[encoded data removed]",
      "text/plain": [
       "<matplotlib.figure.Figure at 0x7f67530e8a20>"
      ]
     },
     "metadata": {},
     "output_type": "display_data"
    },
    {
     "name": "stdout",
     "output_type": "stream",
     "text": [
      "Squared diff: (P - Q_corrected) =  46.6690022584\n"
     ]
    }
   ],
   "source": [
    "mu_P = P.mean(1)\n",
    "mu_Q = Q.mean(1)\n",
    "P_centered = P - mu_P\n",
    "Q_centered = Q - mu_Q\n",
    "correspondences = get_correspondence_indices(P_centered, Q_centered)\n",
    "lim = [-10, 10]\n",
    "ax = plot_data(P_centered, Q_centered, lim, lim)\n",
    "draw_correspondeces(P_centered, Q_centered, correspondences, ax)\n",
    "plt.show()\n",
    "\n",
    "cov = compute_cross_covariance(P_centered, Q_centered, correspondences)\n",
    "U, S, V_T = np.linalg.svd(cov)\n",
    "R_found = U * V_T\n",
    "t_found = mu_P - R_found * mu_Q\n",
    "Q_corrected = R_found * Q_centered + mu_P\n",
    "ax = plot_data(P, Q_corrected, [-2, 22], [0, 2])\n",
    "plt.show()\n",
    "print(\"Squared diff: (P - Q_corrected) = \", np.linalg.norm(P - Q_corrected))\n"
   ]
  }
 ],
 "metadata": {
  "kernelspec": {
   "display_name": "Python 3",
   "language": "python",
   "name": "python3"
  },
  "language_info": {
   "codemirror_mode": {
    "name": "ipython",
    "version": 3
   },
   "file_extension": ".py",
   "mimetype": "text/x-python",
   "name": "python",
   "nbconvert_exporter": "python",
   "pygments_lexer": "ipython3",
   "version": "3.5.2"
  }
 },
 "nbformat": 4,
 "nbformat_minor": 2
}
